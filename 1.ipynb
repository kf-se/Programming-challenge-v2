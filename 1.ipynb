{
 "cells": [
  {
   "cell_type": "markdown",
   "metadata": {},
   "source": [
    "# TOP SECRET! TOTALLY CLASSIFIED! DO NOT DISTRIBUTE OVER EMAIL OR OTHER INSECURE COMMUNICATION PROTOCOLS!! CANVAS OK THO.\n",
    "\n",
    "## DT2421 ML Programming Challenge (HT20)\n",
    "\n",
    "In short, the student must build and train a classifier given a labeled dataset and then use it to infer the labels of a given unlabeled evaluation dataset. The student then submits the inferred labels in a specified format, which is  compared to the ground truth. The accuracy of the student's model is proportional to the score they receive. More precisely:\n",
    "\n",
    "Denote the number of points on this challenge as $N$. In this semester, $N = 18$.\n",
    "\n",
    "If the student did not follow the instructions: **Points $\\leftarrow$ 0**\n",
    "\n",
    "Otherwise, define the accuracy achieved with majority label classification as $\\theta_c$. Define the accuracy achieved with the benchmark as $\\theta_b$. Define the theoretical maximum accuracy as $\\theta_t$. Finally, denote the student's accuracy as $\\theta$.\n",
    "\n",
    "If $\\theta < \\theta_c$ \n",
    "> **Points $\\leftarrow$ 0**\n",
    "\n",
    "If $\\theta_c \\le \\theta \\le \\theta_b$ \n",
    "> **Points** $\\leftarrow (N/2) (\\theta-\\theta_c)/(\\theta_b-\\theta_c)$\n",
    "\n",
    "else \n",
    "> **Points** $\\leftarrow (N/2) + (N/2) \\sqrt{ (\\theta - \\theta_b)/(\\theta_t-\\theta_b) }$\n",
    "\n",
    "The below shows:\n",
    "$$\\theta_t = 0.9385$$\n",
    "$$\\theta_c = 0.4965$$\n",
    "$$\\theta_b = 0.81$$\n",
    "where the benchmark is achieved by using Naive Bayes."
   ]
  },
  {
   "cell_type": "code",
   "execution_count": 104,
   "metadata": {},
   "outputs": [],
   "source": [
    "import numpy as np\n",
    "\n",
    "np.random.seed(22110)\n",
    "\n",
    "N = 11000\n",
    "import pandas as pd\n",
    "df = pd.DataFrame()"
   ]
  },
  {
   "cell_type": "markdown",
   "metadata": {},
   "source": [
    "## GROUND TRUTH\n",
    "\n",
    "Each observation $\\mathbf{x}$ has $D=10$ dimensions, where\n",
    "\n",
    "$$\\mathbf{x} \\in \\mathbb{R}^2 \\times [0,1)^2 \\times \\{\\mathrm{T},\\mathrm{F}\\} \\times \\{A,B,C,D,E,Fx,F\\}\\times\\mathbb{R}^4.$$\n",
    "\n",
    "For simplicity, define the dimensions of $\\mathbf{x}$ in the order above. Each observation comes from one of $K=3$ classes: \n",
    "\n",
    "$$\\mathcal{G} = \\{\\textrm{Atsuto}, \\textrm{Bob}, \\textrm{Jörg}\\}.$$"
   ]
  },
  {
   "cell_type": "code",
   "execution_count": 105,
   "metadata": {},
   "outputs": [],
   "source": [
    "G = ['Atsuto','Bob','Jörg']"
   ]
  },
  {
   "cell_type": "markdown",
   "metadata": {},
   "source": [
    "Define the random vector $\\mathbf{X} = (X_1, \\ldots, X_{10})$ from which $\\mathbf{x}$ is sampled, and the random variable $G$ for the classes. We now define the probability distribution \n",
    "\n",
    "$$f_\\mathbf{X,G}(\\mathbf{x},g) = f_\\mathbf{X,G}(x_1, \\ldots, x_{10},g) = f_\\mathbf{X|G}(x_1, \\ldots, x_{10}|G=g) P[G=g].$$\n",
    "\n",
    "### 1. Priors of classes $P[G=g]$"
   ]
  },
  {
   "cell_type": "code",
   "execution_count": 106,
   "metadata": {},
   "outputs": [
    {
     "name": "stdout",
     "output_type": "stream",
     "text": [
      "            y\n",
      "0         Bob\n",
      "1         Bob\n",
      "2      Atsuto\n",
      "3      Atsuto\n",
      "4         Bob\n",
      "...       ...\n",
      "10995     Bob\n",
      "10996     Bob\n",
      "10997  Atsuto\n",
      "10998    Jörg\n",
      "10999     Bob\n",
      "\n",
      "[11000 rows x 1 columns]\n",
      "theta_c = 0.49654545454545457\n"
     ]
    }
   ],
   "source": [
    "PG = np.array([0.3,0.5,0.2])\n",
    "s = np.random.multinomial(1,PG,(N,))\n",
    "groundtruth = np.nonzero(s)[1]\n",
    "df['y'] = [G[ss] for ss in groundtruth]\n",
    "print(df)\n",
    "\n",
    "# the following variable will hold the log probability of each class for each observation\n",
    "logprobs = np.log(PG[s])\n",
    "\n",
    "# Compute accuracy by choosing majority class\n",
    "theta_c = len(np.where(1 == groundtruth)[0])/len(groundtruth)\n",
    "print(\"theta_c =\",theta_c)"
   ]
  },
  {
   "cell_type": "markdown",
   "metadata": {},
   "source": [
    "### 2. $X_1, X_2$ are distributed multivariate Gaussian independent of class\n",
    "\n",
    "$$f_\\mathbf{X|G}(\\mathbf{x}|G=g) = f_\\mathbf{X',G}(x_3, \\ldots, x_{10}|G=g)f_{X_1,X_2}(x_1,x_2)$$"
   ]
  },
  {
   "cell_type": "code",
   "execution_count": 107,
   "metadata": {},
   "outputs": [
    {
     "name": "stdout",
     "output_type": "stream",
     "text": [
      "            y        x1        x2\n",
      "0         Bob -0.781026 -0.633751\n",
      "1         Bob  0.426487 -0.500192\n",
      "2      Atsuto  1.868170 -0.455652\n",
      "3      Atsuto -1.800730  0.085353\n",
      "4         Bob  1.569432 -1.258602\n",
      "...       ...       ...       ...\n",
      "10995     Bob -1.782551  1.325771\n",
      "10996     Bob  0.381429 -0.479494\n",
      "10997  Atsuto -0.071345 -0.050871\n",
      "10998    Jörg -0.916444  0.229936\n",
      "10999     Bob  1.143602  0.019705\n",
      "\n",
      "[11000 rows x 3 columns]\n"
     ]
    }
   ],
   "source": [
    "X1X2 = np.random.multivariate_normal([0,0],np.array([[2, -0.5],[-0.5,1]]),N)\n",
    "df['x1'] = X1X2[:,0]\n",
    "df['x2'] = X1X2[:,1]\n",
    "print(df)"
   ]
  },
  {
   "cell_type": "markdown",
   "metadata": {},
   "source": [
    "### 3. With transformation $X'_3,X'_4$ are each distributed uniform in $[a_g,b_g]$ independent of all other dimensions\n",
    "\n",
    "$$f_\\mathbf{X|G}(\\mathbf{x}|G=g) = f_\\mathbf{X'',G}(x_5, \\ldots, x_{10}|G=g,x_3,x_4)f_{X_1,X_2}(x_1,x_2)f_{X_3,X_4|G}(x_3,x_4|G=g)$$\n"
   ]
  },
  {
   "cell_type": "code",
   "execution_count": 108,
   "metadata": {},
   "outputs": [
    {
     "name": "stdout",
     "output_type": "stream",
     "text": [
      "            y        x1        x2        x3        x4\n",
      "0         Bob -0.781026 -0.633751 -0.036651  0.275172\n",
      "1         Bob  0.426487 -0.500192  0.006956  0.118172\n",
      "2      Atsuto  1.868170 -0.455652  0.076578  0.096623\n",
      "3      Atsuto -1.800730  0.085353 -0.024667  0.140323\n",
      "4         Bob  1.569432 -1.258602 -0.020919  0.222672\n",
      "...       ...       ...       ...       ...       ...\n",
      "10995     Bob -1.782551  1.325771 -0.010371  0.133884\n",
      "10996     Bob  0.381429 -0.479494 -0.233287  0.236104\n",
      "10997  Atsuto -0.071345 -0.050871 -0.924294  0.950270\n",
      "10998    Jörg -0.916444  0.229936 -1.508639  1.385100\n",
      "10999     Bob  1.143602  0.019705 -0.754776  0.703161\n",
      "\n",
      "[11000 rows x 5 columns]\n"
     ]
    }
   ],
   "source": [
    "X3=[]\n",
    "X4=[]\n",
    "for ii in df['y']:\n",
    "    if ii=='Atsuto':\n",
    "        X3.append(np.random.uniform(0,0.75,1))\n",
    "        X4.append(np.random.uniform(0.2,0.5,1))\n",
    "    if ii=='Bob':\n",
    "        X3.append(np.random.uniform(0,0.5,1))\n",
    "        X4.append(np.random.uniform(0,0.75,1))\n",
    "    if ii=='Jörg':\n",
    "        X3.append(np.random.uniform(0.2,0.8,1))\n",
    "        X4.append(np.random.uniform(0,0.75,1))\n",
    "\n",
    "X = np.array((X3,X4))\n",
    "P = np.random.normal(0,1,4).reshape((2,2))\n",
    "Xp = np.matmul(P,X[:,:,0])\n",
    "df['x3'] = Xp[0,:]\n",
    "df['x4'] = Xp[1,:]  \n",
    "print(df)\n",
    "\n",
    "# update log probabilities for X3\n",
    "ix = np.where(X[0,:] > 0.75)\n",
    "logprobs[ix[0],0] = -np.inf\n",
    "ix = np.where(X[0,:] <= 0.75)\n",
    "logprobs[ix[0],0] += np.log(1/0.75)\n",
    "\n",
    "ix = np.where(X[0,:] > 0.5)\n",
    "logprobs[ix[0],1] = -np.inf\n",
    "ix = np.where(X[0,:] <= 0.5)\n",
    "logprobs[ix[0],1] += np.log(1/0.5)\n",
    "\n",
    "ix = np.where( (X[0,:] < 0.2) | (X[0,:] > 0.8) )\n",
    "logprobs[ix[0],2] = -np.inf\n",
    "ix = np.where( (X[0,:] >= 0.2) & (X[0,:] <= 0.8) )\n",
    "logprobs[ix[0],2] += np.log(1/0.6)\n",
    "\n",
    "# update log probabilities for X4\n",
    "ix = np.where( (X[1,:] < 0.2) | (X[1,:] > 0.5) )\n",
    "logprobs[ix[0],0] = -np.inf\n",
    "ix = np.where( (X[1,:] >= 0.2) & (X[1,:] <= 0.5) )\n",
    "logprobs[ix[0],0] += np.log(1/0.3)\n",
    "\n",
    "ix = np.where(X[1,:] > 0.75)\n",
    "logprobs[ix[0],1] = -np.inf\n",
    "ix = np.where(X[1,:] <= 0.75)\n",
    "logprobs[ix[0],1] += np.log(1/0.75)\n",
    "\n",
    "ix = np.where(X[1,:] > 0.75)\n",
    "logprobs[ix[0],2] = -np.inf\n",
    "ix = np.where(X[1,:] <= 0.75)\n",
    "logprobs[ix[0],2] += np.log(1/0.75)\n"
   ]
  },
  {
   "cell_type": "markdown",
   "metadata": {},
   "source": [
    "### 4. $X_5$ is distributed according to the following rule\n",
    "\n",
    "$$X_5 = \\begin{cases} 1, & x_4 > x_2\\\\ 0, & \\mathrm{else} \\end{cases}$$\n",
    "and so\n",
    "$$f_\\mathbf{X|G}(\\mathbf{x}|G=g) = f_\\mathbf{X''',G}(x_6, \\ldots, x_{10}|G=g,x_3,x_4)f_{X_1,X_2}(x_1,x_2)f_{X_3,X_4|G}(x_3,x_4|G=g)f_{X_5|X_2,X_4}(x_5|x_2,x_4)$$\n",
    "\n",
    "If $X_5 = 1$, then the observation is \"True\", otherwise it is \"False\"."
   ]
  },
  {
   "cell_type": "code",
   "execution_count": 109,
   "metadata": {},
   "outputs": [
    {
     "name": "stdout",
     "output_type": "stream",
     "text": [
      "            y        x1        x2        x3        x4     x5\n",
      "0         Bob -0.781026 -0.633751 -0.036651  0.275172  False\n",
      "1         Bob  0.426487 -0.500192  0.006956  0.118172  False\n",
      "2      Atsuto  1.868170 -0.455652  0.076578  0.096623  False\n",
      "3      Atsuto -1.800730  0.085353 -0.024667  0.140323  False\n",
      "4         Bob  1.569432 -1.258602 -0.020919  0.222672  False\n",
      "...       ...       ...       ...       ...       ...    ...\n",
      "10995     Bob -1.782551  1.325771 -0.010371  0.133884   True\n",
      "10996     Bob  0.381429 -0.479494 -0.233287  0.236104  False\n",
      "10997  Atsuto -0.071345 -0.050871 -0.924294  0.950270  False\n",
      "10998    Jörg -0.916444  0.229936 -1.508639  1.385100  False\n",
      "10999     Bob  1.143602  0.019705 -0.754776  0.703161  False\n",
      "\n",
      "[11000 rows x 6 columns]\n"
     ]
    }
   ],
   "source": [
    "df['x5'] = df['x2']>df['x4']\n",
    "print(df)"
   ]
  },
  {
   "cell_type": "markdown",
   "metadata": {},
   "source": [
    "### 5. $X_6$ is distributed according to the following\n",
    "\n",
    "$$X_6 = \\begin{cases} \\mathrm{1}, & 0.9 < x_2 + x_3+x_4 \\\\ \\mathrm{2}, & 0.8 < x_2 + x_3+x_4 \\le 0.9\\\\\n",
    "\\mathrm{3}, & 0.7 < x_2 + x_3+x_4 \\le 0.8 \\\\ \\mathrm{4}, & 0.6 < x_2 + x_3+x_4 \\le 0.7\\\\\n",
    "\\mathrm{5}, & 0.5 < x_2 + x_3+x_4 \\le 0.6 \\\\ \\mathrm{6}, & 0.4 < x_2 + x_3+x_4 \\le 0.5\\\\\n",
    "\\mathrm{7}, & x_2 + x_3+x_4 \\le 0.4\n",
    "\\end{cases}$$\n",
    "\n",
    "and so\n",
    "$$f_\\mathbf{X|G}(\\mathbf{x}|G=g) = f_\\mathbf{X'''',G}(x_7, \\ldots, x_{10}|G=g,x_3,\\ldots,x_6)f_{X_1,X_2}(x_1,x_2)f_{X_3,X_4|G}(x_3,x_4|G=g)f_{X_5|X_2,X_4}(x_5|x_2,x_4)f_{X_6|X_2,X_3,X_4}(x_6|x_2,x_3,x_4)$$\n",
    "\n",
    "If $X_6 = 1$, then the observation is \"A\"; if it is $2$, then the observation is \"B\". And so on to \"Fx\" and finally \"F\"."
   ]
  },
  {
   "cell_type": "code",
   "execution_count": 110,
   "metadata": {},
   "outputs": [
    {
     "name": "stdout",
     "output_type": "stream",
     "text": [
      "            y        x1        x2        x3        x4     x5 x6\n",
      "0         Bob -0.781026 -0.633751 -0.036651  0.275172  False  F\n",
      "1         Bob  0.426487 -0.500192  0.006956  0.118172  False  F\n",
      "2      Atsuto  1.868170 -0.455652  0.076578  0.096623  False  F\n",
      "3      Atsuto -1.800730  0.085353 -0.024667  0.140323  False  F\n",
      "4         Bob  1.569432 -1.258602 -0.020919  0.222672  False  F\n",
      "...       ...       ...       ...       ...       ...    ... ..\n",
      "10995     Bob -1.782551  1.325771 -0.010371  0.133884   True  A\n",
      "10996     Bob  0.381429 -0.479494 -0.233287  0.236104  False  F\n",
      "10997  Atsuto -0.071345 -0.050871 -0.924294  0.950270  False  F\n",
      "10998    Jörg -0.916444  0.229936 -1.508639  1.385100  False  F\n",
      "10999     Bob  1.143602  0.019705 -0.754776  0.703161  False  F\n",
      "\n",
      "[11000 rows x 7 columns]\n"
     ]
    }
   ],
   "source": [
    "X6 = []\n",
    "for xx in df['x2']+df['x3']+df['x4']:\n",
    "    if xx > 0.9:\n",
    "        X6.append('A')\n",
    "    elif xx > 0.8:\n",
    "        X6.append('B')\n",
    "    elif xx > 0.7:\n",
    "        X6.append('C')\n",
    "    elif xx > 0.6:\n",
    "        X6.append('D')\n",
    "    elif xx > 0.5:\n",
    "        X6.append('E')\n",
    "    elif xx > 0.4:\n",
    "        X6.append('Fx')\n",
    "    else:\n",
    "        X6.append('F')\n",
    "        \n",
    "df['x6'] = X6\n",
    "print(df)"
   ]
  },
  {
   "cell_type": "markdown",
   "metadata": {},
   "source": [
    "### 6. $X_7,X_8$ are distributed multivariate Gaussian depending on class\n",
    "\n",
    "$$\\begin{multline}f_\\mathbf{X|G}(\\mathbf{x}|G=g) = f_\\mathbf{X''''',G}(x_9, x_{10}|G=g,x_3,\\ldots,x_8)f_{X_1,X_2}(x_1,x_2)f_{X_3,X_4|G}(x_3,x_4|G=g)\\\\\n",
    "f_{X_5|X_2,X_4}(x_5|x_2,x_4)f_{X_6|X_3,X_4}(x_6|x_3,x_4)f_{X_7,X_8|G}(x_7,x_8|G=g)\\end{multline}$$\n"
   ]
  },
  {
   "cell_type": "code",
   "execution_count": 111,
   "metadata": {},
   "outputs": [
    {
     "name": "stdout",
     "output_type": "stream",
     "text": [
      "            y        x1        x2        x3        x4     x5 x6        x7  \\\n",
      "0         Bob -0.781026 -0.633751 -0.036651  0.275172  False  F -1.857550   \n",
      "1         Bob  0.426487 -0.500192  0.006956  0.118172  False  F -1.737613   \n",
      "2      Atsuto  1.868170 -0.455652  0.076578  0.096623  False  F  1.027982   \n",
      "3      Atsuto -1.800730  0.085353 -0.024667  0.140323  False  F  2.027931   \n",
      "4         Bob  1.569432 -1.258602 -0.020919  0.222672  False  F -0.433043   \n",
      "...       ...       ...       ...       ...       ...    ... ..       ...   \n",
      "10995     Bob -1.782551  1.325771 -0.010371  0.133884   True  A -1.439007   \n",
      "10996     Bob  0.381429 -0.479494 -0.233287  0.236104  False  F -0.722691   \n",
      "10997  Atsuto -0.071345 -0.050871 -0.924294  0.950270  False  F  0.216218   \n",
      "10998    Jörg -0.916444  0.229936 -1.508639  1.385100  False  F -1.377088   \n",
      "10999     Bob  1.143602  0.019705 -0.754776  0.703161  False  F -0.745080   \n",
      "\n",
      "             x8  \n",
      "0      0.226685  \n",
      "1     -1.610154  \n",
      "2     -0.923261  \n",
      "3     -0.463183  \n",
      "4     -1.998811  \n",
      "...         ...  \n",
      "10995 -0.821224  \n",
      "10996 -2.736887  \n",
      "10997  0.773951  \n",
      "10998  0.467179  \n",
      "10999 -0.530555  \n",
      "\n",
      "[11000 rows x 9 columns]\n"
     ]
    }
   ],
   "source": [
    "X7=[]\n",
    "X8=[]\n",
    "for ii in df['y']:\n",
    "    if ii=='Atsuto':\n",
    "        xx = np.random.multivariate_normal([1,1],2*np.eye(2))\n",
    "    if ii=='Bob':\n",
    "        xx = np.random.multivariate_normal([-1,-1],0.5*np.eye(2))\n",
    "    if ii=='Jörg':\n",
    "        xx = np.random.multivariate_normal([1,0],np.eye(2))\n",
    "\n",
    "    X7.append(xx[0])\n",
    "    X8.append(xx[1])\n",
    "df['x7'] = np.array(X7)\n",
    "df['x8'] = np.array(X8)     \n",
    "print(df)\n",
    "\n",
    "# update log probabilities for X7, X8\n",
    "from scipy.stats import multivariate_normal\n",
    "X = np.array((X7,X8)).T\n",
    "logprobs[:,0] += np.log(multivariate_normal.pdf(X,[1,1],2*np.eye(2)))\n",
    "logprobs[:,1] += np.log(multivariate_normal.pdf(X,[-1,-1],0.5*np.eye(2)))\n",
    "logprobs[:,2] += np.log(multivariate_normal.pdf(X,[1,0],np.eye(2)))"
   ]
  },
  {
   "cell_type": "markdown",
   "metadata": {},
   "source": [
    "\n",
    "### 7. Finally, $X_9,X_{10}$ are distributed multivariate mixture Gaussian depdendent on class\n",
    "\n",
    "$$\\begin{multline}f_\\mathbf{X|G}(\\mathbf{x}|G=g) = f_\\mathbf{X''''',G}(x_9, x_{10}|G=g,x_3,\\ldots,x_8)f_{X_1,X_2}(x_1,x_2)f_{X_3,X_4|G}(x_3,x_4|G=g)\\\\\n",
    "f_{X_5|X_2,X_4}(x_5|x_2,x_4)f_{X_6|X_3,X_4}(x_6|x_3,x_4)f_{X_7,X_8|G}(x_7,x_8|G=g)\\end{multline}$$"
   ]
  },
  {
   "cell_type": "code",
   "execution_count": 112,
   "metadata": {},
   "outputs": [
    {
     "name": "stdout",
     "output_type": "stream",
     "text": [
      "            y        x1        x2        x3        x4     x5 x6        x7  \\\n",
      "0         Bob -0.781026 -0.633751 -0.036651  0.275172  False  F -1.857550   \n",
      "1         Bob  0.426487 -0.500192  0.006956  0.118172  False  F -1.737613   \n",
      "2      Atsuto  1.868170 -0.455652  0.076578  0.096623  False  F  1.027982   \n",
      "3      Atsuto -1.800730  0.085353 -0.024667  0.140323  False  F  2.027931   \n",
      "4         Bob  1.569432 -1.258602 -0.020919  0.222672  False  F -0.433043   \n",
      "...       ...       ...       ...       ...       ...    ... ..       ...   \n",
      "10995     Bob -1.782551  1.325771 -0.010371  0.133884   True  A -1.439007   \n",
      "10996     Bob  0.381429 -0.479494 -0.233287  0.236104  False  F -0.722691   \n",
      "10997  Atsuto -0.071345 -0.050871 -0.924294  0.950270  False  F  0.216218   \n",
      "10998    Jörg -0.916444  0.229936 -1.508639  1.385100  False  F -1.377088   \n",
      "10999     Bob  1.143602  0.019705 -0.754776  0.703161  False  F -0.745080   \n",
      "\n",
      "             x8        x9       x10  \n",
      "0      0.226685 -2.351304  1.420921  \n",
      "1     -1.610154 -5.122190  1.877233  \n",
      "2     -0.923261 -1.671106  2.078280  \n",
      "3     -0.463183  2.413293 -0.629627  \n",
      "4     -1.998811 -1.582406  2.284226  \n",
      "...         ...       ...       ...  \n",
      "10995 -0.821224 -0.115688  1.652503  \n",
      "10996 -2.736887 -1.314042 -0.651014  \n",
      "10997  0.773951  4.074774  3.057988  \n",
      "10998  0.467179  0.694106  2.485586  \n",
      "10999 -0.530555 -2.014628  0.150329  \n",
      "\n",
      "[11000 rows x 11 columns]\n"
     ]
    }
   ],
   "source": [
    "X9=[]\n",
    "X10=[]\n",
    "for ii in df['y']:\n",
    "    if ii=='Atsuto':\n",
    "        if np.random.uniform() > 0.5:\n",
    "            xx = np.random.multivariate_normal([2,1],2*np.array([[1,0.2],[0.2,0.7]]))\n",
    "        else:\n",
    "            xx = np.random.multivariate_normal([-2,1],np.array([[1,-0.3],[-0.3,1]]))\n",
    "    if ii=='Bob':\n",
    "        if np.random.uniform() > 0.75:\n",
    "            xx = np.random.multivariate_normal([-2,1],np.array([[1,0.4],[0.4,2]]))\n",
    "        else:\n",
    "            xx = np.random.multivariate_normal([-2,1],np.array([[2,-0.3],[-0.3,1]]))\n",
    "    if ii=='Jörg':\n",
    "        if np.random.uniform() > 0.25:\n",
    "            xx = np.random.multivariate_normal([-1,2],np.array([[1,0.4],[0.4,2]]))\n",
    "        else:\n",
    "            xx = np.random.multivariate_normal([2,-1],np.array([[2,-0.3],[-0.3,1]]))\n",
    "    X9.append(xx[0])\n",
    "    X10.append(xx[1])\n",
    "df['x9'] = np.array(X9)\n",
    "df['x10'] = np.array(X10)     \n",
    "print(df)\n",
    "\n",
    "# update log probabilities for X9, X10\n",
    "X = np.array((X9,X10)).T\n",
    "logprobs[:,0] += np.log( 0.5*multivariate_normal.pdf(X,[2,1],2*np.array([[1,0.2],[0.2,0.7]]))+\n",
    "                       0.5*multivariate_normal.pdf(X,[-2,1],np.array([[1,-0.3],[-0.3,1]])) )\n",
    "logprobs[:,1] += np.log( 0.25*multivariate_normal.pdf(X,[-2,1],np.array([[1,0.4],[0.4,2]]))+\n",
    "                       0.75*multivariate_normal.pdf(X,[-2,1],np.array([[2,-0.3],[-0.3,1]])) )\n",
    "logprobs[:,2] += np.log( 0.25*multivariate_normal.pdf(X,[-1,2],np.array([[1,0.4],[0.4,2]]))+\n",
    "                       0.75*multivariate_normal.pdf(X,[2,-1],np.array([[2,-0.3],[-0.3,1]])) )"
   ]
  },
  {
   "cell_type": "markdown",
   "metadata": {},
   "source": [
    "### 8. Compute theoretical maximum accuracy"
   ]
  },
  {
   "cell_type": "code",
   "execution_count": 114,
   "metadata": {},
   "outputs": [
    {
     "name": "stdout",
     "output_type": "stream",
     "text": [
      "theta_t =  0.9385454545454546\n"
     ]
    }
   ],
   "source": [
    "preds = np.argmax(logprobs,axis=1)\n",
    "theta_t = len(np.where(preds == groundtruth)[0])/len(groundtruth)\n",
    "print(\"theta_t = \",theta_t)"
   ]
  },
  {
   "cell_type": "markdown",
   "metadata": {},
   "source": [
    "### 9. Save training and evaluation datasets to files in CSV format\n",
    "\n",
    "Further processing of the training data file includes (done by hand):\n",
    "- a few observations having a dimension with an order of magnitude larger\n",
    "- a few observations having '?' in a dimension or two\n",
    "- a few observations that don't have enough dimensions\n",
    "- a random line of text\n",
    "\n",
    "Student should be able to handle these by either inferring values, removing the bad observation, and deleting the text."
   ]
  },
  {
   "cell_type": "code",
   "execution_count": 252,
   "metadata": {},
   "outputs": [],
   "source": [
    "df_train = df.iloc[0:1000]\n",
    "df_eval = df.iloc[1000:]\n",
    "\n",
    "df_train.to_csv(\"TrainOnMe_orig.csv\",float_format='%2.5f')\n",
    "df_eval.drop(['y'],axis=1).to_csv(\"EvaluateOnMe.csv\",float_format='%2.5f')\n",
    "df_eval.to_csv(\"EvaluationGT.csv\",columns=['y'])"
   ]
  }
 ],
 "metadata": {
  "kernelspec": {
   "display_name": "Python 3",
   "language": "python",
   "name": "python3"
  },
  "language_info": {
   "codemirror_mode": {
    "name": "ipython",
    "version": 3
   },
   "file_extension": ".py",
   "mimetype": "text/x-python",
   "name": "python",
   "nbconvert_exporter": "python",
   "pygments_lexer": "ipython3",
   "version": "3.9.1"
  }
 },
 "nbformat": 4,
 "nbformat_minor": 4
}
